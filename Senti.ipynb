{
 "cells": [
  {
   "cell_type": "code",
   "execution_count": null,
   "id": "8890939b-0342-4d7c-af67-a927bcb05211",
   "metadata": {},
   "outputs": [],
   "source": [
    "!pip install nltk\n",
    "!pip install pandas"
   ]
  },
  {
   "cell_type": "code",
   "execution_count": 21,
   "id": "1feef567-354b-4de9-9295-470af937edb0",
   "metadata": {},
   "outputs": [
    {
     "name": "stdout",
     "output_type": "stream",
     "text": [
      "<bound method NDFrame.head of                                                    Text  \\\n",
      "0     The GeoSolutions technology will leverage Bene...   \n",
      "1     $ESI on lows, down $1.50 to $2.50 BK a real po...   \n",
      "2     For the last quarter of 2010 , Componenta 's n...   \n",
      "3     According to the Finnish-Russian Chamber of Co...   \n",
      "4     The Swedish buyout firm has sold its remaining...   \n",
      "...                                                 ...   \n",
      "5837  RISING costs have forced packaging producer Hu...   \n",
      "5838  Nordic Walking was first used as a summer trai...   \n",
      "5839  According shipping company Viking Line , the E...   \n",
      "5840  In the building and home improvement trade , s...   \n",
      "5841  HELSINKI AFX - KCI Konecranes said it has won ...   \n",
      "\n",
      "                                                   text  \n",
      "0     The GeoSolutions technology will leverage Bene...  \n",
      "1     $ESI on lows, down $1.50 to $2.50 BK a real po...  \n",
      "2     For the last quarter of 2010 , Componenta 's n...  \n",
      "3     According to the Finnish-Russian Chamber of Co...  \n",
      "4     The Swedish buyout firm has sold its remaining...  \n",
      "...                                                 ...  \n",
      "5837  RISING costs have forced packaging producer Hu...  \n",
      "5838  Nordic Walking was first used as a summer trai...  \n",
      "5839  According shipping company Viking Line , the E...  \n",
      "5840  In the building and home improvement trade , s...  \n",
      "5841  HELSINKI AFX - KCI Konecranes said it has won ...  \n",
      "\n",
      "[5842 rows x 2 columns]>\n"
     ]
    },
    {
     "name": "stderr",
     "output_type": "stream",
     "text": [
      "[nltk_data] Downloading package vader_lexicon to\n",
      "[nltk_data]     /Users/jimmyjacob/nltk_data...\n",
      "[nltk_data]   Package vader_lexicon is already up-to-date!\n"
     ]
    }
   ],
   "source": [
    "#import packages\n",
    "import nltk\n",
    "nltk.download('vader_lexicon')\n",
    "from nltk.sentiment.vader import SentimentIntensityAnalyzer as SIA\n",
    "import pandas as pd\n",
    "\n",
    "#open csv file\n",
    "df = pd.read_csv(r\"all-data2.csv\", names=['Text'], header=0)\n",
    "\n",
    "#remove empty lines and set data types\n",
    "#df = df.dropna(subset=[\"date\"])\n",
    "#df['date'] = df['date'].astype('datetime64[ns]')\n",
    "df['text'] = df['Text'].astype(str)\n",
    "#df['state'] = df['state'].astype('category')\n",
    "\n",
    "print(df.head)\n"
   ]
  },
  {
   "cell_type": "code",
   "execution_count": 22,
   "id": "f44f9440-1af4-489d-944c-d942575ad146",
   "metadata": {},
   "outputs": [
    {
     "name": "stdout",
     "output_type": "stream",
     "text": [
      "Neutral Count 2389\n",
      "Positive Count 2695\n",
      "Negative Count 758\n"
     ]
    }
   ],
   "source": [
    "#calculate sentiment\n",
    "analyzer = SIA()\n",
    "df['compound'] = [analyzer.polarity_scores(x)['compound'] for x in df['text']]\n",
    "df['negative'] = [analyzer.polarity_scores(x)['neg'] for x in df['text']]\n",
    "df['neutral'] = [analyzer.polarity_scores(x)['neu'] for x in df['text']]\n",
    "df['positive'] = [analyzer.polarity_scores(x)['pos'] for x in df['text']]\n",
    "\n",
    "#create columns\n",
    "df['sentiment']='neutral'\n",
    "df.loc[df.compound>0.05,'sentiment']='positive'\n",
    "df.loc[df.compound<-0.05,'sentiment']='negative'\n",
    "df.head()\n",
    "\n",
    "#on-screen summary\n",
    "print(\"Neutral Count\", df['sentiment'].value_counts()['neutral'])\n",
    "print(\"Positive Count\", df['sentiment'].value_counts()['positive'])\n",
    "print(\"Negative Count\", df['sentiment'].value_counts()['negative'])\n",
    "\n",
    "#save to csv file\n",
    "df.to_csv(r\"data-with-sentiment.csv\", index=False)"
   ]
  },
  {
   "cell_type": "code",
   "execution_count": null,
   "id": "de0a922b-9008-45e3-a38a-d8c76d987a03",
   "metadata": {},
   "outputs": [],
   "source": []
  }
 ],
 "metadata": {
  "kernelspec": {
   "display_name": "Python 3 (ipykernel)",
   "language": "python",
   "name": "python3"
  },
  "language_info": {
   "codemirror_mode": {
    "name": "ipython",
    "version": 3
   },
   "file_extension": ".py",
   "mimetype": "text/x-python",
   "name": "python",
   "nbconvert_exporter": "python",
   "pygments_lexer": "ipython3",
   "version": "3.11.9"
  }
 },
 "nbformat": 4,
 "nbformat_minor": 5
}
